{
 "cells": [
  {
   "cell_type": "markdown",
   "id": "ccfb357a",
   "metadata": {},
   "source": [
    "# Advent of Code 2021 - Day 1\n",
    "> My solution and thoughts\n",
    "\n",
    "- toc: false\n",
    "- badges: false\n",
    "- comments: false\n",
    "- categories: [advent-of-code]"
   ]
  },
  {
   "cell_type": "markdown",
   "id": "39796776",
   "metadata": {},
   "source": [
    "# Advent of Code\n",
    "I have, on every occasion that I have tried, completely failed to follow through on the [Advent of Code](https://adventofcode.com/). This is the year that I change that!\n",
    "\n",
    "I like Python, so I'm going to be presenting various solutions with Python as a way to play with it again. My goal is to explore the various approaches that one might take, and to think through things from a \"first principles\" kind of mindset.\n",
    "\n",
    "So with that said, let's look at the first day! I'm not going to copy over the text from the problems, but I will state them in my own words.\n",
    "\n",
    "## Part 1\n",
    "For the first part, we're given a list of numbers, and we are looking to determine how many of the numbers are larger than the one before. There's some story around it, and I appreciate the stories, but this is the gist.\n",
    "\n",
    "The example is, if we're given:\n",
    "```\n",
    "199\n",
    "200\n",
    "208\n",
    "210\n",
    "200\n",
    "207\n",
    "240\n",
    "269\n",
    "260\n",
    "263\n",
    "```\n",
    "then we would note that:\n",
    "```\n",
    "199 (N/A - no previous measurement)\n",
    "200 (increased)\n",
    "208 (increased)\n",
    "210 (increased)\n",
    "200 (decreased)\n",
    "207 (increased)\n",
    "240 (increased)\n",
    "269 (increased)\n",
    "260 (decreased)\n",
    "263 (increased)\n",
    "```\n",
    "\n",
    "Ok, so we need to get our input and preferably get it into numeric data types. I'll start out with a totally naive approach."
   ]
  },
  {
   "cell_type": "code",
   "execution_count": 12,
   "id": "9e35528c",
   "metadata": {},
   "outputs": [],
   "source": [
    "with open('../assets/inputs/aoc/2021/day_1.txt', 'r') as data_file:\n",
    "    data = [int(point.strip()) for point in data_file.readlines()]"
   ]
  },
  {
   "cell_type": "markdown",
   "id": "a6d8fe29",
   "metadata": {},
   "source": [
    "We strip the strings and then cast them to integer. This is a dandy way to get a list of values, but now we need to determine how they're bigger. We could do this in several ways, but the simplest is to iterate the list and make the comparison, storing a count of the values that are, in fact, larger than their predecessor."
   ]
  },
  {
   "cell_type": "code",
   "execution_count": 15,
   "id": "dd4142ee",
   "metadata": {},
   "outputs": [
    {
     "name": "stdout",
     "output_type": "stream",
     "text": [
      "1521\n"
     ]
    }
   ],
   "source": [
    "count = 0\n",
    "for i, n in enumerate(data):\n",
    "    if n > data[i - 1]:\n",
    "        count += 1\n",
    "print(count)"
   ]
  },
  {
   "cell_type": "markdown",
   "id": "2f1499a6",
   "metadata": {},
   "source": [
    "Success! Your data is probably different, but this is the correct answer. We pass the list once, so the complexity here is `O(n)` on the input. Naively, we would expect that to be the limit for how good this could be. But what about the code itself?\n",
    "\n",
    "Personally, I don't like to have state (`count`) just chilling and getting mutated. That's a recipe for mixups.\n",
    "\n",
    "So let's look at what we're doing: applying a rule across an iterable and accumulating a result. That sounds an awful lot like a [reduce](https://docs.python.org/3/library/functools.html#functools.reduce). Trouble is, we don't really care about the accumulated value in the rule. We only care about the pairwise elements...\n",
    "\n",
    "If we don't care about running through the list twice, then we can use a map in the form of a list comprehension to do this pretty effectively:"
   ]
  },
  {
   "cell_type": "code",
   "execution_count": 28,
   "id": "8ef8889b",
   "metadata": {},
   "outputs": [
    {
     "name": "stdout",
     "output_type": "stream",
     "text": [
      "1521\n"
     ]
    }
   ],
   "source": [
    "count = sum([int(n > data[i - 1]) for i, n in enumerate(data)])\n",
    "\n",
    "print(count)"
   ]
  },
  {
   "cell_type": "markdown",
   "id": "f54177d0",
   "metadata": {},
   "source": [
    "Personally, I like this better. Let's go ahead and make a function out of it for convenience though."
   ]
  },
  {
   "cell_type": "code",
   "execution_count": 29,
   "id": "0444db40",
   "metadata": {},
   "outputs": [],
   "source": [
    "def count_increase_depths(data):\n",
    "    return sum([int(n > data[i - 1]) for i, n in enumerate(data)])"
   ]
  },
  {
   "cell_type": "markdown",
   "id": "eae73e27",
   "metadata": {},
   "source": [
    "## Part 2\n",
    "So part two switches up the approach. We're going to use the same data, but instead of looking at a single value and it's predecessor, we want to create a sliding window of sums for sets of 3 values. This is pretty easy to achieve:"
   ]
  },
  {
   "cell_type": "code",
   "execution_count": 30,
   "id": "4d8a659a",
   "metadata": {},
   "outputs": [
    {
     "data": {
      "text/plain": [
       "[[173, 175, 171],\n",
       " [175, 171, 177],\n",
       " [171, 177, 179],\n",
       " [177, 179, 177],\n",
       " [179, 177, 174],\n",
       " [177, 174, 177],\n",
       " [174, 177, 178],\n",
       " [177, 178, 185],\n",
       " [178, 185, 189],\n",
       " [185, 189, 195]]"
      ]
     },
     "metadata": {},
     "output_type": "display_data"
    }
   ],
   "source": [
    "windows = [data[i:i + 3] for i in range(len(data))]\n",
    "\n",
    "display(windows[:10])"
   ]
  },
  {
   "cell_type": "markdown",
   "id": "b8964520",
   "metadata": {},
   "source": [
    "Looking at the first ten windows, it looks like we've built them correctly, but it always pays to look at the front _and_ the back of a data set."
   ]
  },
  {
   "cell_type": "code",
   "execution_count": 27,
   "id": "2aa184ce",
   "metadata": {},
   "outputs": [
    {
     "data": {
      "text/plain": [
       "[[7063, 7065, 7066],\n",
       " [7065, 7066, 7071],\n",
       " [7066, 7071, 7079],\n",
       " [7071, 7079, 7092],\n",
       " [7079, 7092, 7102],\n",
       " [7092, 7102, 7118],\n",
       " [7102, 7118, 7115],\n",
       " [7118, 7115, 7121],\n",
       " [7115, 7121],\n",
       " [7121]]"
      ]
     },
     "metadata": {},
     "output_type": "display_data"
    }
   ],
   "source": [
    "display(windows[1990:])"
   ]
  },
  {
   "cell_type": "markdown",
   "id": "9bc43736",
   "metadata": {},
   "source": [
    "Ah, trailing data from the windows. We can address that by altering the way we build them:"
   ]
  },
  {
   "cell_type": "code",
   "execution_count": 26,
   "id": "fb6b8ee7",
   "metadata": {},
   "outputs": [
    {
     "data": {
      "text/plain": [
       "[[7063, 7065, 7066],\n",
       " [7065, 7066, 7071],\n",
       " [7066, 7071, 7079],\n",
       " [7071, 7079, 7092],\n",
       " [7079, 7092, 7102],\n",
       " [7092, 7102, 7118],\n",
       " [7102, 7118, 7115],\n",
       " [7118, 7115, 7121]]"
      ]
     },
     "metadata": {},
     "output_type": "display_data"
    }
   ],
   "source": [
    "better_windows = [data[i:i + 3] for i in range(len(data) - 2)]\n",
    "\n",
    "display(better_windows[1990:])"
   ]
  },
  {
   "cell_type": "markdown",
   "id": "4400a621",
   "metadata": {},
   "source": [
    "Now, we could generalize this. The window distance itself is related to how many trailing values we end up with. If we defined the window as 4 instead of 3 we'd have gotten 3 trailing values. This could be a helpful function in the future, so let's go ahead and write it:"
   ]
  },
  {
   "cell_type": "code",
   "execution_count": 25,
   "id": "716d7eb9",
   "metadata": {},
   "outputs": [
    {
     "data": {
      "text/plain": [
       "[[7063, 7065, 7066],\n",
       " [7065, 7066, 7071],\n",
       " [7066, 7071, 7079],\n",
       " [7071, 7079, 7092],\n",
       " [7079, 7092, 7102],\n",
       " [7092, 7102, 7118],\n",
       " [7102, 7118, 7115],\n",
       " [7118, 7115, 7121]]"
      ]
     },
     "metadata": {},
     "output_type": "display_data"
    }
   ],
   "source": [
    "def windowed(iterable, window_size):\n",
    "    adjust = window_size - 1\n",
    "    windowing_range = range(len(iterable) - adjust)\n",
    "    \n",
    "    return [iterable[i:i + window_size] for i in windowing_range]\n",
    "\n",
    "display(windowed(data, 3)[1990:])"
   ]
  },
  {
   "cell_type": "markdown",
   "id": "50d3b5e8",
   "metadata": {},
   "source": [
    "I like it! Now we basically need to run the same count algorithm on this, but after summing them."
   ]
  },
  {
   "cell_type": "code",
   "execution_count": 31,
   "id": "d09004e9",
   "metadata": {},
   "outputs": [
    {
     "data": {
      "text/plain": [
       "1543"
      ]
     },
     "metadata": {},
     "output_type": "display_data"
    }
   ],
   "source": [
    "windowed_data = windowed(data, 3)\n",
    "summed = [sum(window) for window in windowed_data]\n",
    "\n",
    "display(count_increase_depths(summed))"
   ]
  },
  {
   "cell_type": "markdown",
   "id": "60b2193c",
   "metadata": {},
   "source": [
    "## Conclusion\n",
    "The first day wasn't a terribly difficult challenge, but it did get me thinking in Python again! I'm really looking forward to doing the rest of the days this year. This should be a lot of fun."
   ]
  }
 ],
 "metadata": {
  "kernelspec": {
   "display_name": "Python 3 (ipykernel)",
   "language": "python",
   "name": "python3"
  },
  "language_info": {
   "codemirror_mode": {
    "name": "ipython",
    "version": 3
   },
   "file_extension": ".py",
   "mimetype": "text/x-python",
   "name": "python",
   "nbconvert_exporter": "python",
   "pygments_lexer": "ipython3",
   "version": "3.8.5"
  }
 },
 "nbformat": 4,
 "nbformat_minor": 5
}
