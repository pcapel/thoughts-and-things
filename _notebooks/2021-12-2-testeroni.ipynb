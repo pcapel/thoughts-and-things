{
 "cells": [
  {
   "cell_type": "markdown",
   "id": "ccfb357a",
   "metadata": {},
   "source": [
    "Fastpages Notebook Blog Post\n",
    "\n",
    "    A test run of a new notebook based posting!\n",
    "\n",
    "    toc: true\n",
    "    badges: true\n",
    "    comments: true\n",
    "    categories: [jupyter]"
   ]
  },
  {
   "cell_type": "markdown",
   "id": "39796776",
   "metadata": {},
   "source": [
    "# Things\n",
    "These are some things that are in the blog now\n",
    "\n",
    "### Sub heading things\n",
    "I don't know how this should work..."
   ]
  },
  {
   "cell_type": "code",
   "execution_count": 2,
   "id": "0d4db2cb",
   "metadata": {},
   "outputs": [],
   "source": [
    "#collapse-hide\n",
    "from functools import partial\n",
    "from operator import sub"
   ]
  },
  {
   "cell_type": "code",
   "execution_count": 3,
   "id": "31a4216f",
   "metadata": {},
   "outputs": [],
   "source": [
    "subtract_map = partial(map, sub)"
   ]
  },
  {
   "cell_type": "code",
   "execution_count": 6,
   "id": "7ff90fca",
   "metadata": {},
   "outputs": [
    {
     "data": {
      "text/plain": [
       "[-5, -3, -1, 1, 3]"
      ]
     },
     "execution_count": 6,
     "metadata": {},
     "output_type": "execute_result"
    }
   ],
   "source": [
    "k = [1,2,3,4,5,6]\n",
    "\n",
    "list(subtract_map(k, reversed(k[1:])))"
   ]
  }
 ],
 "metadata": {
  "kernelspec": {
   "display_name": "Python 3 (ipykernel)",
   "language": "python",
   "name": "python3"
  },
  "language_info": {
   "codemirror_mode": {
    "name": "ipython",
    "version": 3
   },
   "file_extension": ".py",
   "mimetype": "text/x-python",
   "name": "python",
   "nbconvert_exporter": "python",
   "pygments_lexer": "ipython3",
   "version": "3.8.5"
  }
 },
 "nbformat": 4,
 "nbformat_minor": 5
}
