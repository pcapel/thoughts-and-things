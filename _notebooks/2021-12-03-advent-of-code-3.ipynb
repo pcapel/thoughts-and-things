{
 "cells": [
  {
   "cell_type": "markdown",
   "id": "814db11e",
   "metadata": {},
   "source": [
    "# Advent of Code 2021 - Day 3\n",
    "> My solution and thoughts\n",
    "\n",
    "- toc: false\n",
    "- badges: false\n",
    "- comments: false\n",
    "- categories: [advent-of-code]"
   ]
  },
  {
   "cell_type": "markdown",
   "id": "9b28cb70",
   "metadata": {},
   "source": [
    "# Day 3\n",
    "On the third day of [AoC](https://adventofcode.com/2021/day/3) my data gave to me... a long list of binary.\n",
    "\n",
    "## Part 1\n",
    "This problem is to use a list of binary to generate two binary numbers, then multiply them. That means that this could be done without converting the list to actual binary, though there's probably a clever way to get the answer if we do.\n",
    "\n",
    "The first number is composed of the most common bit from each position. So if we have:\n",
    "\n",
    "```\n",
    "1011\n",
    "0010\n",
    "0110\n",
    "```\n",
    "\n",
    "Then we would build the number `0010`, since those are the most common bits in each column position. The second number is made from the _least_ common bit, which just means that we flip the bits of the first and boom, we have it.\n",
    "\n",
    "With that said, let's build a simple solution:"
   ]
  },
  {
   "cell_type": "code",
   "execution_count": 195,
   "id": "db7cc64c",
   "metadata": {},
   "outputs": [
    {
     "data": {
      "text/plain": [
       "['001001100101', '010100011100', '100000110001']"
      ]
     },
     "metadata": {},
     "output_type": "display_data"
    },
    {
     "data": {
      "text/plain": [
       "['011000110110', '101110011011', '110101100001']"
      ]
     },
     "metadata": {},
     "output_type": "display_data"
    }
   ],
   "source": [
    "with open('../assets/inputs/aoc/2021/day_3.txt', 'r') as data_file:\n",
    "    lines = [line.strip() for line in data_file.readlines()]\n",
    "\n",
    "display(lines[:3], lines[997:])"
   ]
  },
  {
   "cell_type": "markdown",
   "id": "6f84bf8b",
   "metadata": {},
   "source": [
    "**side note:** I don't think that we're going to get the opportunity to do so here, but you might be interested in trying to figure out how you could re-write any of these answers such that we aren't required to read the whole data set into memory. It's a fun challenge!\n",
    "\n",
    "So now we have our lines, and the naive approach is just sitting there waiting for us! What we would need to do if we did this by hand is mark down a count of each bit in each position. I migth use tally marks, but since we're pythonistas we could use a collections counter. The only issue is that we want to use it on the columns.\n",
    "\n",
    "Because the data we want is column-wise and we left the values as strings, we _could_ just iterate the list a few times to get it. I'm lazy, so I'm going to do that first."
   ]
  },
  {
   "cell_type": "code",
   "execution_count": 196,
   "id": "92bf4315",
   "metadata": {},
   "outputs": [
    {
     "data": {
      "text/plain": [
       "[Counter({'0': 528, '1': 472}),\n",
       " Counter({'0': 479, '1': 521}),\n",
       " Counter({'1': 485, '0': 515}),\n",
       " Counter({'0': 499, '1': 501}),\n",
       " Counter({'0': 495, '1': 505}),\n",
       " Counter({'1': 515, '0': 485}),\n",
       " Counter({'1': 512, '0': 488}),\n",
       " Counter({'0': 502, '1': 498}),\n",
       " Counter({'0': 507, '1': 493}),\n",
       " Counter({'1': 507, '0': 493}),\n",
       " Counter({'0': 504, '1': 496}),\n",
       " Counter({'1': 481, '0': 519})]"
      ]
     },
     "metadata": {},
     "output_type": "display_data"
    }
   ],
   "source": [
    "from collections import Counter\n",
    "\n",
    "elem_len = len(lines[0])\n",
    "list_len = len(lines)\n",
    "\n",
    "columns = [[lines[i][j] for i in range(list_len)] for j in range(elem_len)]\n",
    "counts = [Counter(column) for column in columns]\n",
    "\n",
    "display(counts)"
   ]
  },
  {
   "cell_type": "markdown",
   "id": "70ed840c",
   "metadata": {},
   "source": [
    "Ok, we have the positional counts of each thing like we might do by hand. We just need to transform this into an actual value, or two. These will need to be multiplied, so we better make them actual binary values. Then we'll need to positionally set their bits. We could also just compute the binary value as a string and use the `int` function, but this method does a little bitwise operator fun that I think is interesting to try out once in a while:"
   ]
  },
  {
   "cell_type": "code",
   "execution_count": 197,
   "id": "8d213f77",
   "metadata": {},
   "outputs": [
    {
     "data": {
      "text/plain": [
       "3901196"
      ]
     },
     "metadata": {},
     "output_type": "display_data"
    }
   ],
   "source": [
    "powers = [2**n for n in range(elem_len - 1, -1, -1)]\n",
    "gamma = 0\n",
    "epsilon = 0\n",
    "\n",
    "for i, count in enumerate(counts):\n",
    "    if count['1'] > count['0']:\n",
    "        gamma |= powers[i]\n",
    "    else:\n",
    "        epsilon |= powers[i]\n",
    "\n",
    "display(gamma * epsilon)"
   ]
  },
  {
   "cell_type": "markdown",
   "id": "bf7de40f",
   "metadata": {},
   "source": [
    "We spin up a list of the powers of two, or each position's bit value of 1. We want to step through these in reverse order, since the puzzle considers the first bit to be the largest value. Then we use a bitwise-or on the current value, and since we start out with 0 and are moving in descending order, we know we're going to flip a 0 to a 1 for whichever number needs to be altered.\n",
    "\n",
    "Part 1 is done! This is probably the least efficient way that I could do this, but we have an answer.\n",
    "\n",
    "## Part 2\n",
    "Part two introduces a crazy new approach. We need to parse the list down to a single number, but instead of looking at the most common bit to keep that bit, we're going to look at the most/least common bit and keep all the numbers. This process will then be applied to this new, shorter list. There are two values that we want to produce this way: `og_rating` and `cs_rating`. I picked these variables based on the fact that they're called (O)xygen (G)enerator rating and (C)O2 (S)crubber rating in the puzzle. The rules for generation are as follows:\n",
    "\n",
    "The `og_rating` asks us to keep the values with a 1 in the position we're evaluating if 0 and 1 appear evenly.\n",
    "The `cs_rating` asks us to keep the values with a 0 in the position we're evaluating if 0 and 1 appear evenly.\n",
    "The `og_rating` will keep numbers whose value in the current position is the **most common bit**\n",
    "The `cs_rating` will keep numbers whose value in the current position is the **least common bit**\n",
    "\n",
    "**side note:** These rules ensure that we will always shrink the list. However, it does strike me that you might be able to compose a list that doesn't get reduced to a single value in the course of applying this rule. I wonder what that might look like? What are the limits on the size of the list vs the size of it's elements such that you might be able to guarantee a value is generated?\n",
    "\n",
    "The thing that we notice here is that the process we used before lost a lot of information. That is, my `counts` variable is useless for this part of the challenge. I know the most common bit, but I lost the relationship to the individual numbers in the list. Thankfully, the input here is small, so I can just iterate the numbers to create a new list based on the knowledge of what the most common things are. But then I'll need to create _new_ positional counts. So is that really the best way?\n",
    "\n",
    "The common problem here is to find the most common bit for a given position and a list of binary values. So we should try and do that as efficiently as possible:"
   ]
  },
  {
   "cell_type": "code",
   "execution_count": 198,
   "id": "280dc92e",
   "metadata": {},
   "outputs": [],
   "source": [
    "def most_common_for_position(bin_values, position):\n",
    "    zero_count = 0\n",
    "    ones_count = 0\n",
    "    for bn in bin_values:\n",
    "        if bn[position] == '0':\n",
    "            zero_count += 1\n",
    "        else:\n",
    "            ones_count += 1\n",
    "\n",
    "    if zero_count > ones_count:\n",
    "        return '0'\n",
    "    elif ones_count > zero_count:\n",
    "        return '1'\n",
    "    elif ones_count == zero_count:\n",
    "        return 'eq'"
   ]
  },
  {
   "cell_type": "markdown",
   "id": "f351a3e0",
   "metadata": {},
   "source": [
    "The tricky part here is that we're using 0-indexing. I find that switching to that thinking early in the process is helpful because python itself is 0-indexed. If we were using Julia, or another 1-indexed language, then we could rely on the concept. That said, problems that are one indexed in their language are always something to look out for. You know what they say, there are 2 hard problems in computer science: cache invalidation, naming things, and off-by-one errors...\n",
    "\n",
    "At any rate, I went ahead and added an explicit case for the equality of the numbers. This will come in handy for that tie-breaker rule set. At this point it might be nice to validate our function by soliving part one again but in a different way:"
   ]
  },
  {
   "cell_type": "code",
   "execution_count": 199,
   "id": "83503c38",
   "metadata": {},
   "outputs": [
    {
     "data": {
      "text/plain": [
       "3901196"
      ]
     },
     "metadata": {},
     "output_type": "display_data"
    }
   ],
   "source": [
    "def invert(str_bin):\n",
    "    return ''.join(['0' if char == '1' else '1' for char in str_bin])\n",
    "\n",
    "def to_num(n):\n",
    "    return int(n, 2)\n",
    "        \n",
    "gamma = ''\n",
    "for i in range(elem_len):\n",
    "    gamma += most_common_for_position(lines, i)\n",
    "\n",
    "epsilon = invert(gamma)\n",
    "display(to_num(gamma) * to_num(epsilon))"
   ]
  },
  {
   "cell_type": "markdown",
   "id": "94b80887",
   "metadata": {},
   "source": [
    "I would have used a binary operator for the inversion, but with signed binary numbers it was being weird. I'm not used to dealing with binary, so I just opted to write a simple helper to deal with it. But we see that the function works!\n",
    "\n",
    "At this point we have a few steps to follow:\n",
    "1. Get the most common value for the position\n",
    "2. Filter the list into a new list\n",
    "\n",
    "Then we do it again, but with the position incremented. There are two ways to implement this type of logic: iterarive, and recursive. I tend to prefer iteration over recursion in python due to the stack size. I also find that things defined recursively are used easily as iterators, which are easiest to implement as iterative. So I'd even implement fibonacci numbers this way. So let's get the `og_rating` sorted:"
   ]
  },
  {
   "cell_type": "code",
   "execution_count": 200,
   "id": "276bd888",
   "metadata": {
    "scrolled": true
   },
   "outputs": [
    {
     "data": {
      "text/plain": [
       "'011001100111'"
      ]
     },
     "metadata": {},
     "output_type": "display_data"
    }
   ],
   "source": [
    "position = 0\n",
    "binary_list = lines.copy()\n",
    "\n",
    "while len(binary_list) > 1:\n",
    "    most_common = most_common_for_position(binary_list, position)\n",
    "\n",
    "    if most_common == 'eq':\n",
    "        keep = '1'\n",
    "    else:\n",
    "        keep = most_common\n",
    "\n",
    "    binary_list = [line for line in binary_list if line[position] == keep]\n",
    "    position += 1\n",
    "\n",
    "og_rating = binary_list[0]\n",
    "\n",
    "display(og_rating)"
   ]
  },
  {
   "cell_type": "markdown",
   "id": "b63f5e1e",
   "metadata": {},
   "source": [
    "We use essentially the same logic for the `cs_rating` but we insert a bit flip for the concept of \"least common\" in the `cs_rating` specification. Of course, doing this with actual bits would be a \"bit\" better, but we have strings, so I'mma use strings."
   ]
  },
  {
   "cell_type": "code",
   "execution_count": 201,
   "id": "c5864fe3",
   "metadata": {},
   "outputs": [],
   "source": [
    "position = 0\n",
    "binary_list = lines.copy()\n",
    "\n",
    "while len(binary_list) > 1:\n",
    "    most_common = most_common_for_position(binary_list, position)\n",
    "\n",
    "    if most_common == 'eq':\n",
    "        keep = '0'\n",
    "    else:\n",
    "        keep = invert(most_common)\n",
    "\n",
    "    binary_list = [line for line in binary_list if line[position] == keep]\n",
    "    position += 1\n",
    "\n",
    "cs_rating = binary_list[0]"
   ]
  },
  {
   "cell_type": "code",
   "execution_count": 202,
   "id": "0ebf69b6",
   "metadata": {},
   "outputs": [
    {
     "data": {
      "text/plain": [
       "4412188"
      ]
     },
     "metadata": {},
     "output_type": "display_data"
    }
   ],
   "source": [
    "display(to_num(og_rating) * to_num(cs_rating))"
   ]
  },
  {
   "cell_type": "markdown",
   "id": "eb93d7f3",
   "metadata": {},
   "source": [
    "Boom! There we go!\n",
    "\n",
    "Now, this is obviously really ugly, and cleaning it up is an interesting prospect. The big issue is, we have a new list and new state related to it on every iteration. So we have to keep learning what the new most common or least common entry is for each position. If it weren't for that, we could filter the list with some globally accessible state. But alas...\n",
    "\n",
    "What we could do is wrap the whole thing in a function, but honestly that feels ugly too. Just look at this:"
   ]
  },
  {
   "cell_type": "code",
   "execution_count": 203,
   "id": "1c18601a",
   "metadata": {},
   "outputs": [
    {
     "data": {
      "text/plain": [
       "4412188"
      ]
     },
     "metadata": {},
     "output_type": "display_data"
    }
   ],
   "source": [
    "def get_rating(binary_input, rating_type='og_rating'):\n",
    "    position = 0\n",
    "    binary_list = binary_input.copy()\n",
    "\n",
    "    while len(binary_list) > 1:\n",
    "        most_common = most_common_for_position(binary_list, position)\n",
    "        \n",
    "        if rating_type == 'og_rating':\n",
    "            if most_common == 'eq':\n",
    "                keep = '1'\n",
    "            else:\n",
    "                keep = most_common\n",
    "        else:\n",
    "            if most_common == 'eq':\n",
    "                keep = '0'\n",
    "            elif most_common == '1':\n",
    "                keep = '0'\n",
    "            else:\n",
    "                keep = '1'\n",
    "\n",
    "        binary_list = [line for line in binary_list if line[position] == keep]\n",
    "        position += 1\n",
    "        \n",
    "    return binary_list[0]\n",
    "\n",
    "display(to_num(get_rating(lines, rating_type='cs_rating')) * to_num(get_rating(lines)))"
   ]
  },
  {
   "cell_type": "markdown",
   "id": "858623e0",
   "metadata": {},
   "source": [
    "This is ugly. But so is what we're doing. Another option is to write the function, but give it the behavior we want by passing in a keep function. Then we remove the need for the `rating_type` param."
   ]
  },
  {
   "cell_type": "code",
   "execution_count": 204,
   "id": "b8460760",
   "metadata": {},
   "outputs": [
    {
     "data": {
      "text/plain": [
       "4412188"
      ]
     },
     "metadata": {},
     "output_type": "display_data"
    }
   ],
   "source": [
    "def og_rating_keep(most_common):\n",
    "    return '1' if most_common == 'eq' else most_common\n",
    "    \n",
    "def cs_rating_keep(most_common):\n",
    "    return '0' if most_common == 'eq' else invert(most_common)\n",
    "\n",
    "def get_rating_hof(binary_input, keep_function):\n",
    "    position = 0\n",
    "    binary_list = binary_input.copy()\n",
    "\n",
    "    while len(binary_list) > 1:\n",
    "        most_common = most_common_for_position(binary_list, position)\n",
    "\n",
    "        binary_list = [line for line in binary_list if line[position] == keep_function(most_common)]\n",
    "        position += 1\n",
    "        \n",
    "    return binary_list[0]\n",
    "\n",
    "display(to_num(get_rating_hof(lines, cs_rating_keep)) * to_num(get_rating_hof(lines, og_rating_keep)))"
   ]
  },
  {
   "cell_type": "markdown",
   "id": "07c6a541",
   "metadata": {},
   "source": [
    "If you're not familiar with [higher order functions](https://en.wikipedia.org/wiki/Higher-order_function), then this will be new to you. Otherwise, this is an excellent way to clean up logic that you want to know at call time. The hallmark for this is passing in a logical flag. Anytime that you do that, you could be using a higher order function. Some people might term this a \"callback\", but that's the function that is _given_ to a higher order function. \n",
    "\n",
    "At any rate, this is probably the furthest I would go in trying to clean this up. We _could_ go a step further though...\n",
    "\n",
    "We could try and generalize the filtering. What that means is that we have some rule that we want to apply to each successive iteration of the list itself. That might look something like this:\n",
    "\n",
    "``` python\n",
    "def apply_iterative_rule(some_list, rule):\n",
    "    list_copy = some_list.copy()\n",
    "    iteration = 0\n",
    "    while len(list_copy) > 1:\n",
    "        list_copy = rule(list_copy, iteration)\n",
    "    return list_copy[0]\n",
    "```\n",
    "\n",
    "What we're defining here is the interface for the `rule` function. We know that to apply our current rule we need the current list state (`list_copy`) and the `position`. But position is the same as iteration, and iteration is more general.\n",
    "\n",
    "The next challenge is to come up with the `rule` function itself. It should basically look like the inside of our loop. After all, that's where it's being called essentially.\n",
    "\n",
    "``` python\n",
    "def rating_rule(binary_list, position):\n",
    "    most_common = most_common_for_position(binary_list, position)\n",
    "\n",
    "    return [line for line in binary_list if line[position] == keep_function(most_common)]\n",
    "```\n",
    "\n",
    "This is close, but we don't have the keep function, and in the context of this function, we don't control the call site. That's internal to `apply_iterative_rule`. If we were to change that to allow us to pass in a keep function, we'd kind of break the generality. A little bit of [curry](https://en.wikipedia.org/wiki/Currying) could help the situation.\n",
    "\n",
    "``` python\n",
    "from functools import partial\n",
    "\n",
    "def rule_base(keep_function, binary_list, position):\n",
    "    most_common = most_common_for_position(binary_list, position)\n",
    "\n",
    "    return [line for line in binary_list if line[position] == keep_function(most_common)]\n",
    "\n",
    "og_rating_rule = partial(rule_base, og_rating_keep)\n",
    "cs_rating_rule = partial(rule_base, cs_rating_keep)\n",
    "```\n",
    "\n",
    "Using [partial](https://docs.python.org/3/library/functools.html#functools.partial) allows us to apply a function argument, but instead of erroring out if there are missing arguments, it just returns a callable object that will apply arguments to the original function definition. Let's see how this works:"
   ]
  },
  {
   "cell_type": "code",
   "execution_count": 205,
   "id": "faee9a8a",
   "metadata": {},
   "outputs": [
    {
     "data": {
      "text/plain": [
       "4412188"
      ]
     },
     "metadata": {},
     "output_type": "display_data"
    }
   ],
   "source": [
    "from functools import partial\n",
    "\n",
    "def rule_base(keep_function, binary_list, position):\n",
    "    most_common = most_common_for_position(binary_list, position)\n",
    "\n",
    "    return [line for line in binary_list if line[position] == keep_function(most_common)]\n",
    "\n",
    "og_rating_rule = partial(rule_base, og_rating_keep)\n",
    "cs_rating_rule = partial(rule_base, cs_rating_keep)\n",
    "\n",
    "def apply_iterative_rule(some_list, rule):\n",
    "    list_copy = some_list.copy()\n",
    "    iteration = 0\n",
    "    while len(list_copy) > 1:\n",
    "        list_copy = rule(list_copy, iteration)\n",
    "        iteration += 1\n",
    "    return list_copy[0]\n",
    "\n",
    "display(to_num(apply_iterative_rule(lines, og_rating_rule)) * to_num(apply_iterative_rule(lines, cs_rating_rule)))"
   ]
  },
  {
   "cell_type": "markdown",
   "id": "2489fc14",
   "metadata": {},
   "source": [
    "Ok, so this _looks_ really nice, but what immediately jumps out to me is that `apply_iterative_rule` depends on the rule actually reducing the list to a given value. That is, we can pass a perfectly operational rule to the function, and it will simply never terminate.\n",
    "\n",
    "How could we avoid this? The simplest way I can think is to pass in a limit to the function. Something like:\n",
    "\n",
    "``` python\n",
    "def apply_iterative_rule(ls, rule, limit):\n",
    "    ls_copy = ls.copy()\n",
    "    iteration = 0\n",
    "    while len(ls_copy) > limit:\n",
    "        ls_copy = rule(list_copy, iteration)\n",
    "        iteration += 1\n",
    "    return ls_copy[0]\n",
    "```\n",
    "\n",
    "This allows us to pass in the rule, and some expectation about it. But is there actually any guarantee that we'll terminate? It depends on the rule. Since the rule itself is decoupled from this, it feels risky to me. Essentially, we need a way to guarantee that all the rules that we pass in will decrease...\n",
    "\n",
    "I don't really know how one might do that. This is why I prefer stopping at the prior step. We generalized just enough to clean up the code and isolate the \"business logic\" of which thing we wanted to keep. We also kept the filtration logic visible within the loop that controls it. That means that we can, just by looking at the `get_rating_hof` function, be relatively sure that we'll terminate.\n",
    "\n",
    "\n",
    "# Conclusion\n",
    "This was a fun one. It gave me a chance to use partials again, and I'm a huge fan of higher order functions. It feels like there may be a more general solution, but we will always sacrifice efficiency. On that note, it also seems like there is probably a pretty clever way to solve this in a super efficient way using some [evil bit-level hacking](https://en.wikipedia.org/wiki/Fast_inverse_square_root). I don't generally go in for that. The code solves the problem, and it does so quickly enough for me to write it up.\n",
    "\n",
    "I will, however, come back to the topic of termination. I feel like looking at the rules we're applying vs the input we take in is interesting enough to warrant that. As it is, our solution seems to depend on the fact that we're playing a game that must have a solution. In the real world, being able to tell if the data won't terminate is pretty valuable. I'll try to remember to update with a link to that when the time comes."
   ]
  }
 ],
 "metadata": {
  "kernelspec": {
   "display_name": "Python 3 (ipykernel)",
   "language": "python",
   "name": "python3"
  },
  "language_info": {
   "codemirror_mode": {
    "name": "ipython",
    "version": 3
   },
   "file_extension": ".py",
   "mimetype": "text/x-python",
   "name": "python",
   "nbconvert_exporter": "python",
   "pygments_lexer": "ipython3",
   "version": "3.8.5"
  }
 },
 "nbformat": 4,
 "nbformat_minor": 5
}
