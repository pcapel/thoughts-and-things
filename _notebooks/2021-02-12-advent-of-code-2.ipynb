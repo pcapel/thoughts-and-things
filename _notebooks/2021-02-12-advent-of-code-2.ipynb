{
 "cells": [
  {
   "cell_type": "markdown",
   "id": "87980897",
   "metadata": {},
   "source": [
    "# Advent of Code - Day 2\n",
    "> My solution and thoughts\n",
    "\n",
    "- toc: false\n",
    "- badges: false\n",
    "- comments: false\n",
    "- categories: [advent-of-code]"
   ]
  },
  {
   "cell_type": "markdown",
   "id": "23d986e6",
   "metadata": {},
   "source": [
    "# Day 2!\n",
    "Technically, I wrote this the same day as day 1, and on the third day release... but you can forgive that, right?\n",
    "\n",
    "## Part 1\n",
    "Anyway, we're on to day 2! This challenge centers around calculating positions. So our input is a list of directions, and values to apply to those directions. First things first, we're going to want to split those up into something meaningful. Personally, I love a good `namedtuple`:"
   ]
  },
  {
   "cell_type": "code",
   "execution_count": 4,
   "id": "f35424fb",
   "metadata": {},
   "outputs": [],
   "source": [
    "from collections import namedtuple\n",
    "\n",
    "Movement = namedtuple('Movement', ['direction', 'value'])"
   ]
  },
  {
   "cell_type": "markdown",
   "id": "56a6ba92",
   "metadata": {},
   "source": [
    "So each instance in the input list can now be instantiated as a `Movement`, so let's read in that data!"
   ]
  },
  {
   "cell_type": "code",
   "execution_count": 10,
   "id": "d10b297c",
   "metadata": {},
   "outputs": [
    {
     "data": {
      "text/plain": [
       "[Movement(direction='forward', value=4),\n",
       " Movement(direction='down', value=8),\n",
       " Movement(direction='down', value=3)]"
      ]
     },
     "metadata": {},
     "output_type": "display_data"
    },
    {
     "data": {
      "text/plain": [
       "[Movement(direction='forward', value=4),\n",
       " Movement(direction='forward', value=4),\n",
       " Movement(direction='forward', value=8)]"
      ]
     },
     "metadata": {},
     "output_type": "display_data"
    }
   ],
   "source": [
    "with open('../assets/inputs/aoc/2021/day_2.txt', 'r') as data_file:\n",
    "    lines = data_file.readlines()\n",
    "    movements = [Movement(line.strip().split(' ')[0], int(line.strip().split(' ')[1])) for line in lines]\n",
    "    \n",
    "display(movements[:3])\n",
    "display(movements[997:])"
   ]
  },
  {
   "cell_type": "markdown",
   "id": "43112e16",
   "metadata": {},
   "source": [
    "Ok! We have some data, and we've got it formatted in a way that seems reasonable. Essentially, we need to calculate the horizontal and vertical position that the list of movements leaves us in. We will subtract from the vertical when we go up, add when we go down, and add to the horizontal when we move forward. This is a pretty easy set of conditions:"
   ]
  },
  {
   "cell_type": "code",
   "execution_count": 20,
   "id": "d9da2791",
   "metadata": {},
   "outputs": [
    {
     "data": {
      "text/plain": [
       "1648020"
      ]
     },
     "metadata": {},
     "output_type": "display_data"
    }
   ],
   "source": [
    "horizontal_position = 0\n",
    "vertical_position = 0\n",
    "\n",
    "for movement in movements:\n",
    "    if movement.direction == 'up':\n",
    "        vertical_position -= movement.value\n",
    "    elif movement.direction == 'down':\n",
    "        vertical_position += movement.value\n",
    "    else:\n",
    "        horizontal_position += movement.value\n",
    "\n",
    "display(horizontal_position * vertical_position)"
   ]
  },
  {
   "cell_type": "markdown",
   "id": "c941f07c",
   "metadata": {},
   "source": [
    "Since the puzzle asks us to give the answer as the multiple of our tracked values, we do.\n",
    "\n",
    "Success!\n",
    "\n",
    "But, what about that code? Does it look... a little gross? I think it does. Namely, we're doing almost the exact same thing for every branch. Can we clean that up?\n",
    "\n",
    "One approach that I like is to declare the operations in a dictionary:"
   ]
  },
  {
   "cell_type": "code",
   "execution_count": 12,
   "id": "ff89d622",
   "metadata": {},
   "outputs": [],
   "source": [
    "import operator as ops\n",
    "\n",
    "movement_operation = {\n",
    "    'up': ops.sub,\n",
    "    'down': ops.add,\n",
    "    'forward': ops.add\n",
    "}"
   ]
  },
  {
   "cell_type": "markdown",
   "id": "ff8b2355",
   "metadata": {},
   "source": [
    "Now we can re-write a bit:"
   ]
  },
  {
   "cell_type": "code",
   "execution_count": 19,
   "id": "385f9e6f",
   "metadata": {},
   "outputs": [
    {
     "data": {
      "text/plain": [
       "1648020"
      ]
     },
     "metadata": {},
     "output_type": "display_data"
    }
   ],
   "source": [
    "horizontal_position = 0\n",
    "vertical_position = 0\n",
    "\n",
    "for movement in movements:\n",
    "    op = movement_operation[movement.direction]\n",
    "    if movement.direction in ['up', 'down']:\n",
    "        vertical_position = op(vertical_position, movement.value)\n",
    "    else:\n",
    "        horizontal_position = op(horizontal_position, movement.value)\n",
    "\n",
    "display(horizontal_position * vertical_position)"
   ]
  },
  {
   "cell_type": "markdown",
   "id": "3381a46b",
   "metadata": {},
   "source": [
    "Is this better? It's a little harder to read, and we have now encoded that `vertical_position` has to be the thing that both 'up' and 'down' deal with. If we were to need to change 'down' to deal with some other value, this is harder to break apart. On the other hand, the operations are now lifted. If I need to change the operation that is performed for anything, I can do so in one place and be sure that it propogates to all the usage points. That's pretty cool.\n",
    "\n",
    "## Part 2\n",
    "Now we introduce the idea of \"aim\". This is fun if you're a person who has played _entirely_ too much [Subnautica](http://subnauticagame.com/) because the idea makes sense. In this story, you're piloting a sub-marine vehicle. So the aim is basically where the nose of the craft is pointed. Adjusting 'up' and 'down' now affects aim, and only forward changes the values. Pretty easy:"
   ]
  },
  {
   "cell_type": "code",
   "execution_count": 18,
   "id": "ae447f54",
   "metadata": {},
   "outputs": [
    {
     "data": {
      "text/plain": [
       "1759818555"
      ]
     },
     "metadata": {},
     "output_type": "display_data"
    }
   ],
   "source": [
    "aim = 0\n",
    "horizontal_position = 0\n",
    "vertical_position = 0\n",
    "\n",
    "for movement in movements:\n",
    "    op = movement_operation[movement.direction]\n",
    "    if movement.direction in ['up', 'down']:\n",
    "        aim = op(aim, movement.value)\n",
    "    else:\n",
    "        horizontal_position = op(horizontal_position, movement.value)\n",
    "        vertical_position = op(vertical_position, (movement.value * aim))\n",
    "\n",
    "display(horizontal_position * vertical_position)"
   ]
  },
  {
   "cell_type": "markdown",
   "id": "4bdaaf51",
   "metadata": {},
   "source": [
    "Ok, so we solved it, that's cool... But is this the best way?\n",
    "\n",
    "We iterate the data (in its cleaned state) just the once. So that's good, but it still feels like we're missing something. It seems like the answer being the two values multiplied together means something.\n",
    "\n"
   ]
  }
 ],
 "metadata": {
  "kernelspec": {
   "display_name": "Python 3 (ipykernel)",
   "language": "python",
   "name": "python3"
  },
  "language_info": {
   "codemirror_mode": {
    "name": "ipython",
    "version": 3
   },
   "file_extension": ".py",
   "mimetype": "text/x-python",
   "name": "python",
   "nbconvert_exporter": "python",
   "pygments_lexer": "ipython3",
   "version": "3.8.5"
  }
 },
 "nbformat": 4,
 "nbformat_minor": 5
}
